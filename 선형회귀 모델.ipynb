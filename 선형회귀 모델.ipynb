{
 "cells": [
  {
   "cell_type": "code",
   "execution_count": null,
   "metadata": {},
   "outputs": [],
   "source": [
    "pip install pandas"
   ]
  },
  {
   "cell_type": "code",
   "execution_count": null,
   "metadata": {},
   "outputs": [],
   "source": [
    "pip install matplot"
   ]
  },
  {
   "cell_type": "code",
   "execution_count": null,
   "metadata": {},
   "outputs": [],
   "source": [
    "pip install seaborn"
   ]
  },
  {
   "cell_type": "markdown",
   "metadata": {},
   "source": [
    "## 라이브러리 불러오기"
   ]
  },
  {
   "cell_type": "code",
   "execution_count": 4,
   "metadata": {},
   "outputs": [],
   "source": [
    "import pandas as pd\n",
    "import numpy as np\n",
    "import matplotlib.pyplot as plt\n",
    "import seaborn as sns"
   ]
  },
  {
   "cell_type": "code",
   "execution_count": null,
   "metadata": {},
   "outputs": [],
   "source": [
    "pip install scikit-learn"
   ]
  },
  {
   "cell_type": "code",
   "execution_count": 6,
   "metadata": {},
   "outputs": [],
   "source": [
    "df = pd.read_csv('https://raw.githubusercontent.com/JayoungKim-ai/ML_dataset/main/advertising.csv')\n",
    "#다운 받아서 읽을 경우\n",
    "#df = pd.read_csv('data/advertising.csv')\n",
    " "
   ]
  },
  {
   "cell_type": "code",
   "execution_count": null,
   "metadata": {},
   "outputs": [],
   "source": [
    "df.info()"
   ]
  },
  {
   "cell_type": "code",
   "execution_count": null,
   "metadata": {},
   "outputs": [],
   "source": [
    "df.head()"
   ]
  },
  {
   "cell_type": "markdown",
   "metadata": {},
   "source": [
    "## 시각화"
   ]
  },
  {
   "cell_type": "code",
   "execution_count": null,
   "metadata": {},
   "outputs": [],
   "source": [
    "#시각화\n",
    "#산점도 = scatterplot / sns.scatterplot(data = 데이타이름, x = x축 이름 , y = y축 이름름)\n",
    "plt.figure(figsize=(15,5)) #그래프 사이즈 조정정\n",
    "plt.subplot(1,3,1) #subplot(1행 3열 중 1번쨰 그래프프)\n",
    "sns.regplot(data=df, x='TV', y='Sales') #tv 광고비에 대한 판매량\n",
    "plt.title('TV')\n",
    "plt.subplot(1,3,2) #subplot(1행 3열 중 2번쨰 그래프프)\n",
    "sns.regplot(data=df,x='Radio', y='Sales') #radio 광고비에 대한 판매량\n",
    "plt.title('Radio')\n",
    "plt.subplot(1,3,3) #subplot(1행 3열 중 3번쨰 그래프프)\n",
    "sns.regplot(data=df,x='Newspaper', y='Sales') # Newspaper 광고비에 대한 판매량량\n",
    "plt.title(\"NewsPaper\")\n",
    "\n",
    "pass #쓸데없는 텍스트 지워주기\n"
   ]
  },
  {
   "cell_type": "markdown",
   "metadata": {},
   "source": [
    "## 상관계수"
   ]
  },
  {
   "cell_type": "code",
   "execution_count": null,
   "metadata": {},
   "outputs": [],
   "source": [
    "df.corr()"
   ]
  },
  {
   "cell_type": "code",
   "execution_count": null,
   "metadata": {},
   "outputs": [],
   "source": [
    "#히트맵 시각화\n",
    "sns.heatmap(df.corr(), cmap = 'Blues' , annot = True) #sns.heatmap(데이터 기준, 색깔, 숫자 표시하는지)"
   ]
  },
  {
   "cell_type": "markdown",
   "metadata": {},
   "source": [
    "# 독립변수, 종속변수 선택"
   ]
  },
  {
   "cell_type": "code",
   "execution_count": 12,
   "metadata": {},
   "outputs": [],
   "source": [
    "X = df[['TV']]\n",
    "y = df['Sales']"
   ]
  },
  {
   "cell_type": "markdown",
   "metadata": {},
   "source": [
    "## 훈련세트 트레인 세트 분리 (Split data)"
   ]
  },
  {
   "cell_type": "code",
   "execution_count": null,
   "metadata": {},
   "outputs": [],
   "source": [
    "#splitting data\n",
    "from sklearn.model_selection import train_test_split\n",
    "X_train, X_test, y_train, y_test = train_test_split(X,y,random_state=42,test_size= 0.25)\n",
    "X_train.shape, X_test.shape, y_train.shape, y_test.shape"
   ]
  },
  {
   "cell_type": "code",
   "execution_count": null,
   "metadata": {},
   "outputs": [],
   "source": [
    "train_test_split?"
   ]
  },
  {
   "cell_type": "code",
   "execution_count": null,
   "metadata": {},
   "outputs": [],
   "source": [
    "sns.scatterplot(data=df, x=X_train['TV'], y= y_train, label='train') # 훈련용 데이터\n",
    "sns.scatterplot(data=df, x=X_test['TV'], y= y_test, label='test') # 테스트용 데이터\n",
    "pass\n",
    "\n",
    "#차원 값 맞춰야 됨됨"
   ]
  },
  {
   "cell_type": "markdown",
   "metadata": {},
   "source": [
    "## 모델 생성 "
   ]
  },
  {
   "cell_type": "code",
   "execution_count": null,
   "metadata": {},
   "outputs": [],
   "source": [
    "#import linear regression\n",
    "from sklearn.linear_model import LinearRegression\n",
    "#모델 생성\n",
    "model = LinearRegression()\n",
    "#훈련데이터로 모델 훈련 시키기기\n",
    "model.fit(X_train, y_train) #훈련 데이터들들\n"
   ]
  },
  {
   "cell_type": "markdown",
   "metadata": {},
   "source": [
    "## 테스트세트"
   ]
  },
  {
   "cell_type": "code",
   "execution_count": null,
   "metadata": {},
   "outputs": [],
   "source": [
    "#모델 평가를 위한 함수 불러오기기\n",
    "from sklearn.metrics import mean_squared_error, root_mean_squared_error, mean_absolute_error, r2_score\n",
    "#테스트 데이터의 예측값\n",
    "pred = model.predict(X_test)\n",
    "#예측값과 실제값의 차이이\n",
    "mse = mean_squared_error(y_test, pred)\n",
    "rmse = root_mean_squared_error(y_test, pred)\n",
    "mae = mean_absolute_error(y_test, pred)\n",
    "r2 = r2_score(y_test, pred)\n",
    "print(f'''\n",
    "mse : {mse: .2f}\n",
    "rmse : {rmse: .2f}\n",
    "mae : {mae: .2f}\n",
    "r2 : {r2: .2f} \n",
    "     ''')\n",
    "\n",
    "# 회귀모델의 평가점수 수동 계산 \n",
    "# mae = abs(df_pred['error']).mean()\n",
    "# mse = np.square(df_pred['error']).mean()\n",
    "# rmse = np.sqrt(mse)\n",
    "# r2_score\n",
    "# rss = np.square(df_pred['y_test'] - df_pred['y_pred']).sum()\n",
    "# tss = np.square(df_pred['y_test'] - df_pred['y_test].mean()).sum()\n",
    "# r2 = 1 - (rss/tss)\n"
   ]
  },
  {
   "cell_type": "code",
   "execution_count": null,
   "metadata": {},
   "outputs": [],
   "source": [
    "# 실제값과 모델의 예측값 비교\n",
    "df_pred = pd.DataFrame({'X_test':X_test['TV'],\n",
    "    'y_test':y_test,\n",
    "    'y_pred':pred})\n",
    "df_pred['error'] = df_pred['y_test']-df_pred['y_pred']\n",
    "df_pred.head(10)"
   ]
  },
  {
   "cell_type": "markdown",
   "metadata": {},
   "source": [
    "## 모델의 학습 결과"
   ]
  },
  {
   "cell_type": "code",
   "execution_count": null,
   "metadata": {},
   "outputs": [],
   "source": [
    "\n",
    "#회귀계수(w)\n",
    "print('회귀계수:', model.coef_)\n",
    "w = model.coef_ #list 형식이라 [0] 필요함\n",
    "#절편\n",
    "print('절편:', model.intercept_)\n",
    "b = model.intercept_\n",
    "#회귀식\n",
    "print(f'회귀식: {w[0]} * TV + {b}')"
   ]
  },
  {
   "cell_type": "code",
   "execution_count": null,
   "metadata": {},
   "outputs": [],
   "source": [
    "#테스트데이터 실제값 예측값 비교\n",
    "sns.scatterplot(x=X_test['TV'], y = y_test, label = 'Actual Values')\n",
    "sns.scatterplot(x= X_test['TV'], y= pred, label = 'Predicted Value')\n"
   ]
  },
  {
   "cell_type": "code",
   "execution_count": null,
   "metadata": {},
   "outputs": [],
   "source": [
    "#테스트데이터 실제값 예측값 비교 시각화 (2)\n",
    "plt.plot(pred, marker = 'o', label = 'pred')\n",
    "plt.plot(np.array(y_test), marker = 'o', label = 'actual')\n",
    "plt.legend();"
   ]
  },
  {
   "cell_type": "markdown",
   "metadata": {},
   "source": [
    "## 새로운 값 예측하기"
   ]
  },
  {
   "cell_type": "code",
   "execution_count": null,
   "metadata": {},
   "outputs": [],
   "source": [
    "#TV 광고비 값 입력\n",
    "TV =100\n",
    "#예측 함수 이용하여 예측\n",
    "print(model.predict([[TV]]))\n",
    "# 모델이 학습한 공식에 대입하여 예측\n",
    "print(w* TV + b)"
   ]
  },
  {
   "cell_type": "markdown",
   "metadata": {},
   "source": [
    "# 다중회귀"
   ]
  },
  {
   "cell_type": "code",
   "execution_count": 23,
   "metadata": {},
   "outputs": [],
   "source": [
    "#독립변수, 종속변수 선택\n",
    "X2 = df[['TV', 'Radio', 'Newspaper']] #2차원이라서 [[]]\n",
    "y = df['Sales'] \n"
   ]
  },
  {
   "cell_type": "code",
   "execution_count": null,
   "metadata": {},
   "outputs": [],
   "source": [
    "#사용하고 있는 변수들 확인인\n",
    "whos"
   ]
  },
  {
   "cell_type": "code",
   "execution_count": null,
   "metadata": {},
   "outputs": [],
   "source": [
    "#독립변수의 데이터 분포 파악\n",
    "sns.boxplot(X2)"
   ]
  },
  {
   "cell_type": "markdown",
   "metadata": {},
   "source": [
    "## 독립변수 스케일링"
   ]
  },
  {
   "cell_type": "code",
   "execution_count": null,
   "metadata": {},
   "outputs": [],
   "source": [
    "\n",
    "#TV, Radio, Newspaper 각각 광고비 단가가 달라서 이를 표준화 시켜 정규분포포\n",
    "#데이터 스케일링 / standardization\n",
    "from sklearn.preprocessing import StandardScaler\n",
    "scaler = StandardScaler()\n",
    "#X2 데이터를 scaler가 학습\n",
    "scaler.fit(X2)\n",
    "#X2 값 변환\n",
    "X2_scaled = scaler.transform(X2)\n",
    "X2_scaled.shape\n",
    "#scaler.fit_transform(X2) 쓰면 한번에 변환해줌\\\n",
    "scaled_TV = X2_scaled[:,0]\n",
    "scaled_Radio = X2_scaled[:,1]\n",
    "scaled_Newspaper= X2_scaled[:,2]\n",
    "\n",
    "print(f'{scaled_TV.mean()},{scaled_Radio.mean()}, {scaled_Newspaper.mean()}')\n",
    "print(f'{scaled_TV.std()},{scaled_Radio.std()}, {scaled_Newspaper.std()}')\n"
   ]
  },
  {
   "cell_type": "markdown",
   "metadata": {},
   "source": [
    "## 모델훈련"
   ]
  },
  {
   "cell_type": "code",
   "execution_count": null,
   "metadata": {},
   "outputs": [],
   "source": [
    "#훈련 세트, 테스트세트 분할\n",
    "from sklearn.model_selection import train_test_split\n",
    "X_train, X_test, y_train, y_test = train_test_split(X2_scaled, y, random_state = 42)\n",
    "print(X_train.shape, X_test.shape,y_train.shape, y_test.shape)"
   ]
  },
  {
   "cell_type": "code",
   "execution_count": null,
   "metadata": {},
   "outputs": [],
   "source": [
    "#빈 모델 객체 생성\n",
    "from sklearn.linear_model import LinearRegression\n",
    "model2 = LinearRegression()\n",
    "#모델 학습\n",
    "model2.fit(X_train, y_train)"
   ]
  },
  {
   "cell_type": "markdown",
   "metadata": {},
   "source": [
    "## 모델 성능 평가"
   ]
  },
  {
   "cell_type": "code",
   "execution_count": null,
   "metadata": {},
   "outputs": [],
   "source": [
    "#테스트데이터로 예측\n",
    "pred = model2.predict(X_test)\n",
    "#모델 평가\n",
    "from sklearn.metrics import mean_squared_error, root_mean_squared_error, mean_absolute_error, r2_score\n",
    "mse = mean_squared_error(y_test, pred)\n",
    "rmse = root_mean_squared_error(y_test, pred)\n",
    "mae = mean_absolute_error(y_test, pred)\n",
    "r2 = r2_score(y_test, pred)\n",
    "print(f'''\n",
    "mse : {mse:.2f}\n",
    "rmse : {rmse:.2f}\n",
    "mae : {mae:.2f}\n",
    "r2 : {r2:.2f} \n",
    "     ''')"
   ]
  },
  {
   "cell_type": "code",
   "execution_count": null,
   "metadata": {},
   "outputs": [],
   "source": [
    "plt.plot(pred, marker = 'o', label = 'pred')\n",
    "plt.plot(np.array(y_test), marker = 'o', label = 'actual')\n",
    "plt.legend();"
   ]
  },
  {
   "cell_type": "code",
   "execution_count": null,
   "metadata": {},
   "outputs": [],
   "source": [
    "#회귀계수\n",
    "print(f'회귀계수:{model2.coef_}')\n",
    "#절편\n",
    "print(f'절편: {model2.intercept_}')\n",
    "#회귀식식\n",
    "print(f'{model2.coef_[0]} * TV + {model2.coef_[1]} * Radio + {model2.coef_[2]} * Newspaper + {model2.intercept_}')"
   ]
  },
  {
   "cell_type": "markdown",
   "metadata": {},
   "source": [
    "## 새로운 값 예측하기기"
   ]
  },
  {
   "cell_type": "code",
   "execution_count": null,
   "metadata": {},
   "outputs": [],
   "source": [
    "#예측할 값 <여기에서는 fit 쓰면 안됨!!>\n",
    "new_data =[[175, 15,2]]\n",
    "new_data_scaled= scaler.transform(new_data)\n",
    "#예측 함수를 이용한 예측\n",
    "print(model2.predict(new_data_scaled))\n",
    "#식을 이용한 예측측\n",
    "print(f'{model2.coef_[0] * new_data_scaled[0,0] + model2.coef_[1] * new_data_scaled[0,1] +  model2.coef_[2] * new_data_scaled[0,2] + model2.intercept_}')"
   ]
  },
  {
   "cell_type": "markdown",
   "metadata": {},
   "source": [
    "# 다항회귀"
   ]
  },
  {
   "cell_type": "code",
   "execution_count": null,
   "metadata": {},
   "outputs": [],
   "source": [
    "#다항식 조합 생성\n",
    "from sklearn.preprocessing import PolynomialFeatures\n",
    "poly = PolynomialFeatures(degree=4)\n",
    "X_poly = poly.fit_transform(X2)\n",
    "X_poly #변수가 3개에서 10개로 늘어남남\n",
    "# Scaling\n",
    "scalre = StandardScaler()\n",
    "X_poly_scaled = scaler.fit_transform(X_poly)\n",
    "# Data split\n",
    "X_train, X_test, y_train, y_test = train_test_split(X_poly_scaled, y)\n",
    "print(X_train.shape, X_test.shape, y_train.shape, y_test.shape)\n",
    "#모델 생성 및 학습\n",
    "model_poly = LinearRegression()\n",
    "model_poly.fit(X_train, y_train)\n",
    "#모델 평가 \n",
    "print(f'train: {model_poly.score(X_test, y_test)}') #r2 score\n",
    "print(f'test: {model_poly.score(X_train,y_train)}')"
   ]
  },
  {
   "cell_type": "markdown",
   "metadata": {},
   "source": [
    "# 규제"
   ]
  },
  {
   "cell_type": "code",
   "execution_count": null,
   "metadata": {},
   "outputs": [],
   "source": [
    "#보통은 ridge모델을 규제할때는 더 많이 이용  \n",
    "#다항식 조합 생성 \n",
    "from sklearn.preprocessing import PolynomialFeatures\n",
    "poly = PolynomialFeatures(degree=9) #일부러 과적합 생성\n",
    "X_poly = poly.fit_transform(X2)\n",
    "X_poly #변수가 3개에서 10개로 늘어남\n",
    "# Scaling\n",
    "scalre = StandardScaler()\n",
    "X_poly_scaled = scaler.fit_transform(X_poly)\n",
    "# Data split\n",
    "X_train, X_test, y_train, y_test = train_test_split(X_poly_scaled, y)\n",
    "print(X_train.shape, X_test.shape, y_train.shape, y_test.shape)\n",
    "#모델 생성 및 학습\n",
    "from sklearn.linear_model import Ridge #Ridge모델 사용 \n",
    "model_poly = Ridge(alpha = 11) #alpha:규제강도\n",
    "model_poly.fit(X_train, y_train)\n",
    "#모델 평가 \n",
    "print(f'train: {model_poly.score(X_test, y_test)}') #r2 score\n",
    "print(f'test: {model_poly.score(X_train,y_train)}')"
   ]
  },
  {
   "cell_type": "code",
   "execution_count": null,
   "metadata": {},
   "outputs": [],
   "source": [
    "#다항식 조합 생성\n",
    "from sklearn.preprocessing import PolynomialFeatures\n",
    "poly = PolynomialFeatures(degree=9) #일부러 과적합 생성\n",
    "X_poly = poly.fit_transform(X2)\n",
    "X_poly #변수가 3개에서 10개로 늘어남\n",
    "# Scaling\n",
    "scalre = StandardScaler()\n",
    "X_poly_scaled = scaler.fit_transform(X_poly)\n",
    "# Data split\n",
    "X_train, X_test, y_train, y_test = train_test_split(X_poly_scaled, y)\n",
    "print(X_train.shape, X_test.shape, y_train.shape, y_test.shape)\n",
    "#모델 생성 및 학습\n",
    "from sklearn.linear_model import Lasso #Lasso모델 사용 \n",
    "model_poly = Lasso(alpha = 11) #alpha:규제강도\n",
    "model_poly.fit(X_train, y_train)\n",
    "#모델 평가 \n",
    "print(f'train: {model_poly.score(X_test, y_test)}') #r2 score\n",
    "print(f'test: {model_poly.score(X_train,y_train)}')"
   ]
  }
 ],
 "metadata": {
  "kernelspec": {
   "display_name": "Python 3",
   "language": "python",
   "name": "python3"
  },
  "language_info": {
   "codemirror_mode": {
    "name": "ipython",
    "version": 3
   },
   "file_extension": ".py",
   "mimetype": "text/x-python",
   "name": "python",
   "nbconvert_exporter": "python",
   "pygments_lexer": "ipython3",
   "version": "3.10.11"
  }
 },
 "nbformat": 4,
 "nbformat_minor": 2
}
